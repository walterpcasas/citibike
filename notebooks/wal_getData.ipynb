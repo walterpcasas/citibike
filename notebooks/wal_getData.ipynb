{
 "cells": [
  {
   "attachments": {},
   "cell_type": "markdown",
   "metadata": {},
   "source": [
    "# Obter livrarias"
   ]
  },
  {
   "cell_type": "code",
   "execution_count": 9,
   "metadata": {},
   "outputs": [],
   "source": [
    "import os\n",
    "import sys\n",
    "from urllib import request"
   ]
  },
  {
   "cell_type": "code",
   "execution_count": 2,
   "metadata": {},
   "outputs": [
    {
     "name": "stdout",
     "output_type": "stream",
     "text": [
      "Added: /data_lids/home/walter/Lab/citibike/src\n"
     ]
    }
   ],
   "source": [
    "parentPath = os.path.abspath(os.path.join(os.getcwd(), os.pardir))\n",
    "packagePath = os.path.join(parentPath,'src')\n",
    "\n",
    "if packagePath not in sys.path:\n",
    "    sys.path.append(packagePath)\n",
    "    print('Added:', packagePath)"
   ]
  },
  {
   "cell_type": "code",
   "execution_count": 23,
   "metadata": {},
   "outputs": [],
   "source": [
    "import utils"
   ]
  },
  {
   "attachments": {},
   "cell_type": "markdown",
   "metadata": {},
   "source": [
    "# Baixar um arquivo"
   ]
  },
  {
   "cell_type": "code",
   "execution_count": 18,
   "metadata": {},
   "outputs": [],
   "source": [
    "month = 1\n",
    "year = 2022\n",
    "outDir = '../data/raw/'"
   ]
  },
  {
   "cell_type": "code",
   "execution_count": 19,
   "metadata": {},
   "outputs": [
    {
     "name": "stdout",
     "output_type": "stream",
     "text": [
      "Getting data from:\n",
      "\t https://s3.amazonaws.com/tripdata/202201-citibike-tripdata.csv.zip\n",
      "DONE!\n"
     ]
    }
   ],
   "source": [
    "utils.getData(month, year, outDir)"
   ]
  },
  {
   "attachments": {},
   "cell_type": "markdown",
   "metadata": {},
   "source": [
    "# Extract ZIP file"
   ]
  },
  {
   "cell_type": "code",
   "execution_count": 25,
   "metadata": {},
   "outputs": [],
   "source": [
    "zipPath = '../data/raw/202201-citibike-tripdata.csv.zip'\n",
    "outDir = '../data/raw/202201'"
   ]
  },
  {
   "cell_type": "code",
   "execution_count": 26,
   "metadata": {},
   "outputs": [
    {
     "name": "stdout",
     "output_type": "stream",
     "text": [
      "Created ../data/raw/202201\n",
      "Successfully extracted!\n"
     ]
    }
   ],
   "source": [
    "utils.extractZip(zipPath, outDir)"
   ]
  }
 ],
 "metadata": {
  "kernelspec": {
   "display_name": "Python 3",
   "language": "python",
   "name": "python3"
  },
  "language_info": {
   "codemirror_mode": {
    "name": "ipython",
    "version": 3
   },
   "file_extension": ".py",
   "mimetype": "text/x-python",
   "name": "python",
   "nbconvert_exporter": "python",
   "pygments_lexer": "ipython3",
   "version": "3.8.10"
  },
  "orig_nbformat": 4
 },
 "nbformat": 4,
 "nbformat_minor": 2
}
